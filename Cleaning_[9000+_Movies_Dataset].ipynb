{
  "nbformat": 4,
  "nbformat_minor": 0,
  "metadata": {
    "colab": {
      "provenance": [],
      "collapsed_sections": []
    },
    "kernelspec": {
      "name": "python3",
      "display_name": "Python 3"
    },
    "language_info": {
      "name": "python"
    }
  },
  "cells": [
    {
      "cell_type": "markdown",
      "source": [
        "#**Project: Cleaning [9000+ Movies Dataset]**"
      ],
      "metadata": {
        "id": "UHYbbboFCFnj"
      }
    },
    {
      "cell_type": "markdown",
      "source": [
        "#Features of the dataset:\n",
        "* **Release_Date**: Date when the movie was released.\n",
        "* **Title**: Name of the movie.\n",
        "* **Overview**: Brief summary of the movie.\n",
        "* **Popularity**: It is a very important metric computed by TMDB developers based on the number of views per day, votes per day, number of users marked it as \"favorite\" and \"watchlist\" for the data, release date and more other metrics.\n",
        "* **Vote_Count**: Total votes received from the viewers.\n",
        "* **Vote_Average**: Average rating based on vote count and the number of viewers out of 10.\n",
        "* **Original_Language**: Original language of the movies. Dubbed version is not considered to be original language.\n",
        "* **Genre**: Categories the movie it can be classified as.\n",
        "* **Poster_Url**: Url of the movie poster.\n"
      ],
      "metadata": {
        "id": "b-VvpcTqCcMf"
      }
    },
    {
      "cell_type": "markdown",
      "source": [
        "#Import libraries"
      ],
      "metadata": {
        "id": "g8inlV8tDjVh"
      }
    },
    {
      "cell_type": "code",
      "source": [
        "import pandas as pd\n",
        "import numpy as np\n",
        "import matplotlib.pyplot as plt\n",
        "import seaborn as sns"
      ],
      "metadata": {
        "id": "zQw2J-q3G3Sz"
      },
      "execution_count": 1,
      "outputs": []
    },
    {
      "cell_type": "markdown",
      "source": [
        "#load Data"
      ],
      "metadata": {
        "id": "nwog89mtF8ci"
      }
    },
    {
      "cell_type": "code",
      "source": [
        "#load data and viewing its first 5 rows\n",
        "df = pd.read_csv(\"mymoviedb.csv\",  lineterminator='\\n')\n",
        "df.head()"
      ],
      "metadata": {
        "colab": {
          "base_uri": "https://localhost:8080/",
          "height": 337
        },
        "id": "XS1gui-zGF6j",
        "outputId": "143c278f-01a1-4ef3-ef52-8a1b007afe25"
      },
      "execution_count": 2,
      "outputs": [
        {
          "output_type": "execute_result",
          "data": {
            "text/plain": [
              "  Release_Date                    Title  \\\n",
              "0   2021-12-15  Spider-Man: No Way Home   \n",
              "1   2022-03-01               The Batman   \n",
              "2   2022-02-25                  No Exit   \n",
              "3   2021-11-24                  Encanto   \n",
              "4   2021-12-22           The King's Man   \n",
              "\n",
              "                                            Overview  Popularity  Vote_Count  \\\n",
              "0  Peter Parker is unmasked and no longer able to...    5083.954        8940   \n",
              "1  In his second year of fighting crime, Batman u...    3827.658        1151   \n",
              "2  Stranded at a rest stop in the mountains durin...    2618.087         122   \n",
              "3  The tale of an extraordinary family, the Madri...    2402.201        5076   \n",
              "4  As a collection of history's worst tyrants and...    1895.511        1793   \n",
              "\n",
              "   Vote_Average Original_Language                               Genre  \\\n",
              "0           8.3                en  Action, Adventure, Science Fiction   \n",
              "1           8.1                en            Crime, Mystery, Thriller   \n",
              "2           6.3                en                            Thriller   \n",
              "3           7.7                en  Animation, Comedy, Family, Fantasy   \n",
              "4           7.0                en    Action, Adventure, Thriller, War   \n",
              "\n",
              "                                          Poster_Url  \n",
              "0  https://image.tmdb.org/t/p/original/1g0dhYtq4i...  \n",
              "1  https://image.tmdb.org/t/p/original/74xTEgt7R3...  \n",
              "2  https://image.tmdb.org/t/p/original/vDHsLnOWKl...  \n",
              "3  https://image.tmdb.org/t/p/original/4j0PNHkMr5...  \n",
              "4  https://image.tmdb.org/t/p/original/aq4Pwv5Xeu...  "
            ],
            "text/html": [
              "\n",
              "  <div id=\"df-c933981e-73ff-4396-8511-fec432090fc7\">\n",
              "    <div class=\"colab-df-container\">\n",
              "      <div>\n",
              "<style scoped>\n",
              "    .dataframe tbody tr th:only-of-type {\n",
              "        vertical-align: middle;\n",
              "    }\n",
              "\n",
              "    .dataframe tbody tr th {\n",
              "        vertical-align: top;\n",
              "    }\n",
              "\n",
              "    .dataframe thead th {\n",
              "        text-align: right;\n",
              "    }\n",
              "</style>\n",
              "<table border=\"1\" class=\"dataframe\">\n",
              "  <thead>\n",
              "    <tr style=\"text-align: right;\">\n",
              "      <th></th>\n",
              "      <th>Release_Date</th>\n",
              "      <th>Title</th>\n",
              "      <th>Overview</th>\n",
              "      <th>Popularity</th>\n",
              "      <th>Vote_Count</th>\n",
              "      <th>Vote_Average</th>\n",
              "      <th>Original_Language</th>\n",
              "      <th>Genre</th>\n",
              "      <th>Poster_Url</th>\n",
              "    </tr>\n",
              "  </thead>\n",
              "  <tbody>\n",
              "    <tr>\n",
              "      <th>0</th>\n",
              "      <td>2021-12-15</td>\n",
              "      <td>Spider-Man: No Way Home</td>\n",
              "      <td>Peter Parker is unmasked and no longer able to...</td>\n",
              "      <td>5083.954</td>\n",
              "      <td>8940</td>\n",
              "      <td>8.3</td>\n",
              "      <td>en</td>\n",
              "      <td>Action, Adventure, Science Fiction</td>\n",
              "      <td>https://image.tmdb.org/t/p/original/1g0dhYtq4i...</td>\n",
              "    </tr>\n",
              "    <tr>\n",
              "      <th>1</th>\n",
              "      <td>2022-03-01</td>\n",
              "      <td>The Batman</td>\n",
              "      <td>In his second year of fighting crime, Batman u...</td>\n",
              "      <td>3827.658</td>\n",
              "      <td>1151</td>\n",
              "      <td>8.1</td>\n",
              "      <td>en</td>\n",
              "      <td>Crime, Mystery, Thriller</td>\n",
              "      <td>https://image.tmdb.org/t/p/original/74xTEgt7R3...</td>\n",
              "    </tr>\n",
              "    <tr>\n",
              "      <th>2</th>\n",
              "      <td>2022-02-25</td>\n",
              "      <td>No Exit</td>\n",
              "      <td>Stranded at a rest stop in the mountains durin...</td>\n",
              "      <td>2618.087</td>\n",
              "      <td>122</td>\n",
              "      <td>6.3</td>\n",
              "      <td>en</td>\n",
              "      <td>Thriller</td>\n",
              "      <td>https://image.tmdb.org/t/p/original/vDHsLnOWKl...</td>\n",
              "    </tr>\n",
              "    <tr>\n",
              "      <th>3</th>\n",
              "      <td>2021-11-24</td>\n",
              "      <td>Encanto</td>\n",
              "      <td>The tale of an extraordinary family, the Madri...</td>\n",
              "      <td>2402.201</td>\n",
              "      <td>5076</td>\n",
              "      <td>7.7</td>\n",
              "      <td>en</td>\n",
              "      <td>Animation, Comedy, Family, Fantasy</td>\n",
              "      <td>https://image.tmdb.org/t/p/original/4j0PNHkMr5...</td>\n",
              "    </tr>\n",
              "    <tr>\n",
              "      <th>4</th>\n",
              "      <td>2021-12-22</td>\n",
              "      <td>The King's Man</td>\n",
              "      <td>As a collection of history's worst tyrants and...</td>\n",
              "      <td>1895.511</td>\n",
              "      <td>1793</td>\n",
              "      <td>7.0</td>\n",
              "      <td>en</td>\n",
              "      <td>Action, Adventure, Thriller, War</td>\n",
              "      <td>https://image.tmdb.org/t/p/original/aq4Pwv5Xeu...</td>\n",
              "    </tr>\n",
              "  </tbody>\n",
              "</table>\n",
              "</div>\n",
              "      <button class=\"colab-df-convert\" onclick=\"convertToInteractive('df-c933981e-73ff-4396-8511-fec432090fc7')\"\n",
              "              title=\"Convert this dataframe to an interactive table.\"\n",
              "              style=\"display:none;\">\n",
              "        \n",
              "  <svg xmlns=\"http://www.w3.org/2000/svg\" height=\"24px\"viewBox=\"0 0 24 24\"\n",
              "       width=\"24px\">\n",
              "    <path d=\"M0 0h24v24H0V0z\" fill=\"none\"/>\n",
              "    <path d=\"M18.56 5.44l.94 2.06.94-2.06 2.06-.94-2.06-.94-.94-2.06-.94 2.06-2.06.94zm-11 1L8.5 8.5l.94-2.06 2.06-.94-2.06-.94L8.5 2.5l-.94 2.06-2.06.94zm10 10l.94 2.06.94-2.06 2.06-.94-2.06-.94-.94-2.06-.94 2.06-2.06.94z\"/><path d=\"M17.41 7.96l-1.37-1.37c-.4-.4-.92-.59-1.43-.59-.52 0-1.04.2-1.43.59L10.3 9.45l-7.72 7.72c-.78.78-.78 2.05 0 2.83L4 21.41c.39.39.9.59 1.41.59.51 0 1.02-.2 1.41-.59l7.78-7.78 2.81-2.81c.8-.78.8-2.07 0-2.86zM5.41 20L4 18.59l7.72-7.72 1.47 1.35L5.41 20z\"/>\n",
              "  </svg>\n",
              "      </button>\n",
              "      \n",
              "  <style>\n",
              "    .colab-df-container {\n",
              "      display:flex;\n",
              "      flex-wrap:wrap;\n",
              "      gap: 12px;\n",
              "    }\n",
              "\n",
              "    .colab-df-convert {\n",
              "      background-color: #E8F0FE;\n",
              "      border: none;\n",
              "      border-radius: 50%;\n",
              "      cursor: pointer;\n",
              "      display: none;\n",
              "      fill: #1967D2;\n",
              "      height: 32px;\n",
              "      padding: 0 0 0 0;\n",
              "      width: 32px;\n",
              "    }\n",
              "\n",
              "    .colab-df-convert:hover {\n",
              "      background-color: #E2EBFA;\n",
              "      box-shadow: 0px 1px 2px rgba(60, 64, 67, 0.3), 0px 1px 3px 1px rgba(60, 64, 67, 0.15);\n",
              "      fill: #174EA6;\n",
              "    }\n",
              "\n",
              "    [theme=dark] .colab-df-convert {\n",
              "      background-color: #3B4455;\n",
              "      fill: #D2E3FC;\n",
              "    }\n",
              "\n",
              "    [theme=dark] .colab-df-convert:hover {\n",
              "      background-color: #434B5C;\n",
              "      box-shadow: 0px 1px 3px 1px rgba(0, 0, 0, 0.15);\n",
              "      filter: drop-shadow(0px 1px 2px rgba(0, 0, 0, 0.3));\n",
              "      fill: #FFFFFF;\n",
              "    }\n",
              "  </style>\n",
              "\n",
              "      <script>\n",
              "        const buttonEl =\n",
              "          document.querySelector('#df-c933981e-73ff-4396-8511-fec432090fc7 button.colab-df-convert');\n",
              "        buttonEl.style.display =\n",
              "          google.colab.kernel.accessAllowed ? 'block' : 'none';\n",
              "\n",
              "        async function convertToInteractive(key) {\n",
              "          const element = document.querySelector('#df-c933981e-73ff-4396-8511-fec432090fc7');\n",
              "          const dataTable =\n",
              "            await google.colab.kernel.invokeFunction('convertToInteractive',\n",
              "                                                     [key], {});\n",
              "          if (!dataTable) return;\n",
              "\n",
              "          const docLinkHtml = 'Like what you see? Visit the ' +\n",
              "            '<a target=\"_blank\" href=https://colab.research.google.com/notebooks/data_table.ipynb>data table notebook</a>'\n",
              "            + ' to learn more about interactive tables.';\n",
              "          element.innerHTML = '';\n",
              "          dataTable['output_type'] = 'display_data';\n",
              "          await google.colab.output.renderOutput(dataTable, element);\n",
              "          const docLink = document.createElement('div');\n",
              "          docLink.innerHTML = docLinkHtml;\n",
              "          element.appendChild(docLink);\n",
              "        }\n",
              "      </script>\n",
              "    </div>\n",
              "  </div>\n",
              "  "
            ]
          },
          "metadata": {},
          "execution_count": 2
        }
      ]
    },
    {
      "cell_type": "markdown",
      "source": [
        "#Data Wrangling"
      ],
      "metadata": {
        "id": "qpw-XBDymvzz"
      }
    },
    {
      "cell_type": "code",
      "source": [
        "#Get the number of rows and columns in the dataset\n",
        "df.shape"
      ],
      "metadata": {
        "colab": {
          "base_uri": "https://localhost:8080/"
        },
        "id": "Lg4UqPQUq7XN",
        "outputId": "fde546a5-bfdc-4154-bf7e-68b8fe084aa7"
      },
      "execution_count": 3,
      "outputs": [
        {
          "output_type": "execute_result",
          "data": {
            "text/plain": [
              "(9827, 9)"
            ]
          },
          "metadata": {},
          "execution_count": 3
        }
      ]
    },
    {
      "cell_type": "code",
      "source": [
        "#Get dataset info\n",
        "df.info()"
      ],
      "metadata": {
        "colab": {
          "base_uri": "https://localhost:8080/"
        },
        "id": "96c0vbrkm3P-",
        "outputId": "7197e189-3c9f-4f92-f774-dfc1a044af8e"
      },
      "execution_count": 4,
      "outputs": [
        {
          "output_type": "stream",
          "name": "stdout",
          "text": [
            "<class 'pandas.core.frame.DataFrame'>\n",
            "RangeIndex: 9827 entries, 0 to 9826\n",
            "Data columns (total 9 columns):\n",
            " #   Column             Non-Null Count  Dtype  \n",
            "---  ------             --------------  -----  \n",
            " 0   Release_Date       9827 non-null   object \n",
            " 1   Title              9827 non-null   object \n",
            " 2   Overview           9827 non-null   object \n",
            " 3   Popularity         9827 non-null   float64\n",
            " 4   Vote_Count         9827 non-null   int64  \n",
            " 5   Vote_Average       9827 non-null   float64\n",
            " 6   Original_Language  9827 non-null   object \n",
            " 7   Genre              9827 non-null   object \n",
            " 8   Poster_Url         9827 non-null   object \n",
            "dtypes: float64(2), int64(1), object(6)\n",
            "memory usage: 691.1+ KB\n"
          ]
        }
      ]
    },
    {
      "cell_type": "code",
      "source": [
        "#Check for missing values\n",
        "df.isna().sum()"
      ],
      "metadata": {
        "colab": {
          "base_uri": "https://localhost:8080/"
        },
        "id": "qAkAaPFFoiqk",
        "outputId": "9cc6a3f9-7a57-447d-f76c-b9062558e0d5"
      },
      "execution_count": 5,
      "outputs": [
        {
          "output_type": "execute_result",
          "data": {
            "text/plain": [
              "Release_Date         0\n",
              "Title                0\n",
              "Overview             0\n",
              "Popularity           0\n",
              "Vote_Count           0\n",
              "Vote_Average         0\n",
              "Original_Language    0\n",
              "Genre                0\n",
              "Poster_Url           0\n",
              "dtype: int64"
            ]
          },
          "metadata": {},
          "execution_count": 5
        }
      ]
    },
    {
      "cell_type": "code",
      "source": [
        "#Check for duplicates\n",
        "df.duplicated().sum()"
      ],
      "metadata": {
        "colab": {
          "base_uri": "https://localhost:8080/"
        },
        "id": "DvSGi9TSoiwq",
        "outputId": "83e9aa41-05c5-403b-ba51-bdb4dc5caed6"
      },
      "execution_count": 6,
      "outputs": [
        {
          "output_type": "execute_result",
          "data": {
            "text/plain": [
              "0"
            ]
          },
          "metadata": {},
          "execution_count": 6
        }
      ]
    },
    {
      "cell_type": "code",
      "source": [
        "#Get the statistical summary\n",
        "df.describe()"
      ],
      "metadata": {
        "colab": {
          "base_uri": "https://localhost:8080/",
          "height": 300
        },
        "id": "5K5YIn4WrRlr",
        "outputId": "defed083-5295-454f-f452-23ea3f31d33f"
      },
      "execution_count": 7,
      "outputs": [
        {
          "output_type": "execute_result",
          "data": {
            "text/plain": [
              "        Popularity    Vote_Count  Vote_Average\n",
              "count  9827.000000   9827.000000   9827.000000\n",
              "mean     40.326088   1392.805536      6.439534\n",
              "std     108.873998   2611.206907      1.129759\n",
              "min      13.354000      0.000000      0.000000\n",
              "25%      16.128500    146.000000      5.900000\n",
              "50%      21.199000    444.000000      6.500000\n",
              "75%      35.191500   1376.000000      7.100000\n",
              "max    5083.954000  31077.000000     10.000000"
            ],
            "text/html": [
              "\n",
              "  <div id=\"df-0a7187b4-5e16-4398-ac1c-7436b9f37da5\">\n",
              "    <div class=\"colab-df-container\">\n",
              "      <div>\n",
              "<style scoped>\n",
              "    .dataframe tbody tr th:only-of-type {\n",
              "        vertical-align: middle;\n",
              "    }\n",
              "\n",
              "    .dataframe tbody tr th {\n",
              "        vertical-align: top;\n",
              "    }\n",
              "\n",
              "    .dataframe thead th {\n",
              "        text-align: right;\n",
              "    }\n",
              "</style>\n",
              "<table border=\"1\" class=\"dataframe\">\n",
              "  <thead>\n",
              "    <tr style=\"text-align: right;\">\n",
              "      <th></th>\n",
              "      <th>Popularity</th>\n",
              "      <th>Vote_Count</th>\n",
              "      <th>Vote_Average</th>\n",
              "    </tr>\n",
              "  </thead>\n",
              "  <tbody>\n",
              "    <tr>\n",
              "      <th>count</th>\n",
              "      <td>9827.000000</td>\n",
              "      <td>9827.000000</td>\n",
              "      <td>9827.000000</td>\n",
              "    </tr>\n",
              "    <tr>\n",
              "      <th>mean</th>\n",
              "      <td>40.326088</td>\n",
              "      <td>1392.805536</td>\n",
              "      <td>6.439534</td>\n",
              "    </tr>\n",
              "    <tr>\n",
              "      <th>std</th>\n",
              "      <td>108.873998</td>\n",
              "      <td>2611.206907</td>\n",
              "      <td>1.129759</td>\n",
              "    </tr>\n",
              "    <tr>\n",
              "      <th>min</th>\n",
              "      <td>13.354000</td>\n",
              "      <td>0.000000</td>\n",
              "      <td>0.000000</td>\n",
              "    </tr>\n",
              "    <tr>\n",
              "      <th>25%</th>\n",
              "      <td>16.128500</td>\n",
              "      <td>146.000000</td>\n",
              "      <td>5.900000</td>\n",
              "    </tr>\n",
              "    <tr>\n",
              "      <th>50%</th>\n",
              "      <td>21.199000</td>\n",
              "      <td>444.000000</td>\n",
              "      <td>6.500000</td>\n",
              "    </tr>\n",
              "    <tr>\n",
              "      <th>75%</th>\n",
              "      <td>35.191500</td>\n",
              "      <td>1376.000000</td>\n",
              "      <td>7.100000</td>\n",
              "    </tr>\n",
              "    <tr>\n",
              "      <th>max</th>\n",
              "      <td>5083.954000</td>\n",
              "      <td>31077.000000</td>\n",
              "      <td>10.000000</td>\n",
              "    </tr>\n",
              "  </tbody>\n",
              "</table>\n",
              "</div>\n",
              "      <button class=\"colab-df-convert\" onclick=\"convertToInteractive('df-0a7187b4-5e16-4398-ac1c-7436b9f37da5')\"\n",
              "              title=\"Convert this dataframe to an interactive table.\"\n",
              "              style=\"display:none;\">\n",
              "        \n",
              "  <svg xmlns=\"http://www.w3.org/2000/svg\" height=\"24px\"viewBox=\"0 0 24 24\"\n",
              "       width=\"24px\">\n",
              "    <path d=\"M0 0h24v24H0V0z\" fill=\"none\"/>\n",
              "    <path d=\"M18.56 5.44l.94 2.06.94-2.06 2.06-.94-2.06-.94-.94-2.06-.94 2.06-2.06.94zm-11 1L8.5 8.5l.94-2.06 2.06-.94-2.06-.94L8.5 2.5l-.94 2.06-2.06.94zm10 10l.94 2.06.94-2.06 2.06-.94-2.06-.94-.94-2.06-.94 2.06-2.06.94z\"/><path d=\"M17.41 7.96l-1.37-1.37c-.4-.4-.92-.59-1.43-.59-.52 0-1.04.2-1.43.59L10.3 9.45l-7.72 7.72c-.78.78-.78 2.05 0 2.83L4 21.41c.39.39.9.59 1.41.59.51 0 1.02-.2 1.41-.59l7.78-7.78 2.81-2.81c.8-.78.8-2.07 0-2.86zM5.41 20L4 18.59l7.72-7.72 1.47 1.35L5.41 20z\"/>\n",
              "  </svg>\n",
              "      </button>\n",
              "      \n",
              "  <style>\n",
              "    .colab-df-container {\n",
              "      display:flex;\n",
              "      flex-wrap:wrap;\n",
              "      gap: 12px;\n",
              "    }\n",
              "\n",
              "    .colab-df-convert {\n",
              "      background-color: #E8F0FE;\n",
              "      border: none;\n",
              "      border-radius: 50%;\n",
              "      cursor: pointer;\n",
              "      display: none;\n",
              "      fill: #1967D2;\n",
              "      height: 32px;\n",
              "      padding: 0 0 0 0;\n",
              "      width: 32px;\n",
              "    }\n",
              "\n",
              "    .colab-df-convert:hover {\n",
              "      background-color: #E2EBFA;\n",
              "      box-shadow: 0px 1px 2px rgba(60, 64, 67, 0.3), 0px 1px 3px 1px rgba(60, 64, 67, 0.15);\n",
              "      fill: #174EA6;\n",
              "    }\n",
              "\n",
              "    [theme=dark] .colab-df-convert {\n",
              "      background-color: #3B4455;\n",
              "      fill: #D2E3FC;\n",
              "    }\n",
              "\n",
              "    [theme=dark] .colab-df-convert:hover {\n",
              "      background-color: #434B5C;\n",
              "      box-shadow: 0px 1px 3px 1px rgba(0, 0, 0, 0.15);\n",
              "      filter: drop-shadow(0px 1px 2px rgba(0, 0, 0, 0.3));\n",
              "      fill: #FFFFFF;\n",
              "    }\n",
              "  </style>\n",
              "\n",
              "      <script>\n",
              "        const buttonEl =\n",
              "          document.querySelector('#df-0a7187b4-5e16-4398-ac1c-7436b9f37da5 button.colab-df-convert');\n",
              "        buttonEl.style.display =\n",
              "          google.colab.kernel.accessAllowed ? 'block' : 'none';\n",
              "\n",
              "        async function convertToInteractive(key) {\n",
              "          const element = document.querySelector('#df-0a7187b4-5e16-4398-ac1c-7436b9f37da5');\n",
              "          const dataTable =\n",
              "            await google.colab.kernel.invokeFunction('convertToInteractive',\n",
              "                                                     [key], {});\n",
              "          if (!dataTable) return;\n",
              "\n",
              "          const docLinkHtml = 'Like what you see? Visit the ' +\n",
              "            '<a target=\"_blank\" href=https://colab.research.google.com/notebooks/data_table.ipynb>data table notebook</a>'\n",
              "            + ' to learn more about interactive tables.';\n",
              "          element.innerHTML = '';\n",
              "          dataTable['output_type'] = 'display_data';\n",
              "          await google.colab.output.renderOutput(dataTable, element);\n",
              "          const docLink = document.createElement('div');\n",
              "          docLink.innerHTML = docLinkHtml;\n",
              "          element.appendChild(docLink);\n",
              "        }\n",
              "      </script>\n",
              "    </div>\n",
              "  </div>\n",
              "  "
            ]
          },
          "metadata": {},
          "execution_count": 7
        }
      ]
    },
    {
      "cell_type": "markdown",
      "source": [
        "#Summary after Exploration phase:\n",
        "> *   The dataset has **9827** rows and **9** columns\n",
        "*   There is no missing values or duplicated values\n",
        "* **Release_Date** column has wrong data type, so it has to be casted into **date time** type and leave only the year \n",
        "* **Overview** and **Poster_Url** columns are useless during analysis, so we have to drop them\n",
        "\n",
        "\n",
        "\n",
        "\n",
        "\n",
        "\n",
        "\n",
        "\n",
        "\n"
      ],
      "metadata": {
        "id": "wUP-_y82rSra"
      }
    },
    {
      "cell_type": "markdown",
      "source": [
        "#Data Cleaning "
      ],
      "metadata": {
        "id": "xT9-CwpiU8Lz"
      }
    },
    {
      "cell_type": "code",
      "source": [
        "#drop useless columns\n",
        "df.drop(columns = [\"Overview\", \"Poster_Url\"], inplace = True)\n",
        "df.head()"
      ],
      "metadata": {
        "colab": {
          "base_uri": "https://localhost:8080/",
          "height": 206
        },
        "id": "6wSrPIXvoi2F",
        "outputId": "0d85abb1-22c4-4aff-ec51-ffbb7da4290e"
      },
      "execution_count": 8,
      "outputs": [
        {
          "output_type": "execute_result",
          "data": {
            "text/plain": [
              "  Release_Date                    Title  Popularity  Vote_Count  Vote_Average  \\\n",
              "0   2021-12-15  Spider-Man: No Way Home    5083.954        8940           8.3   \n",
              "1   2022-03-01               The Batman    3827.658        1151           8.1   \n",
              "2   2022-02-25                  No Exit    2618.087         122           6.3   \n",
              "3   2021-11-24                  Encanto    2402.201        5076           7.7   \n",
              "4   2021-12-22           The King's Man    1895.511        1793           7.0   \n",
              "\n",
              "  Original_Language                               Genre  \n",
              "0                en  Action, Adventure, Science Fiction  \n",
              "1                en            Crime, Mystery, Thriller  \n",
              "2                en                            Thriller  \n",
              "3                en  Animation, Comedy, Family, Fantasy  \n",
              "4                en    Action, Adventure, Thriller, War  "
            ],
            "text/html": [
              "\n",
              "  <div id=\"df-a6382367-fa36-455c-b4ba-094f79c7414f\">\n",
              "    <div class=\"colab-df-container\">\n",
              "      <div>\n",
              "<style scoped>\n",
              "    .dataframe tbody tr th:only-of-type {\n",
              "        vertical-align: middle;\n",
              "    }\n",
              "\n",
              "    .dataframe tbody tr th {\n",
              "        vertical-align: top;\n",
              "    }\n",
              "\n",
              "    .dataframe thead th {\n",
              "        text-align: right;\n",
              "    }\n",
              "</style>\n",
              "<table border=\"1\" class=\"dataframe\">\n",
              "  <thead>\n",
              "    <tr style=\"text-align: right;\">\n",
              "      <th></th>\n",
              "      <th>Release_Date</th>\n",
              "      <th>Title</th>\n",
              "      <th>Popularity</th>\n",
              "      <th>Vote_Count</th>\n",
              "      <th>Vote_Average</th>\n",
              "      <th>Original_Language</th>\n",
              "      <th>Genre</th>\n",
              "    </tr>\n",
              "  </thead>\n",
              "  <tbody>\n",
              "    <tr>\n",
              "      <th>0</th>\n",
              "      <td>2021-12-15</td>\n",
              "      <td>Spider-Man: No Way Home</td>\n",
              "      <td>5083.954</td>\n",
              "      <td>8940</td>\n",
              "      <td>8.3</td>\n",
              "      <td>en</td>\n",
              "      <td>Action, Adventure, Science Fiction</td>\n",
              "    </tr>\n",
              "    <tr>\n",
              "      <th>1</th>\n",
              "      <td>2022-03-01</td>\n",
              "      <td>The Batman</td>\n",
              "      <td>3827.658</td>\n",
              "      <td>1151</td>\n",
              "      <td>8.1</td>\n",
              "      <td>en</td>\n",
              "      <td>Crime, Mystery, Thriller</td>\n",
              "    </tr>\n",
              "    <tr>\n",
              "      <th>2</th>\n",
              "      <td>2022-02-25</td>\n",
              "      <td>No Exit</td>\n",
              "      <td>2618.087</td>\n",
              "      <td>122</td>\n",
              "      <td>6.3</td>\n",
              "      <td>en</td>\n",
              "      <td>Thriller</td>\n",
              "    </tr>\n",
              "    <tr>\n",
              "      <th>3</th>\n",
              "      <td>2021-11-24</td>\n",
              "      <td>Encanto</td>\n",
              "      <td>2402.201</td>\n",
              "      <td>5076</td>\n",
              "      <td>7.7</td>\n",
              "      <td>en</td>\n",
              "      <td>Animation, Comedy, Family, Fantasy</td>\n",
              "    </tr>\n",
              "    <tr>\n",
              "      <th>4</th>\n",
              "      <td>2021-12-22</td>\n",
              "      <td>The King's Man</td>\n",
              "      <td>1895.511</td>\n",
              "      <td>1793</td>\n",
              "      <td>7.0</td>\n",
              "      <td>en</td>\n",
              "      <td>Action, Adventure, Thriller, War</td>\n",
              "    </tr>\n",
              "  </tbody>\n",
              "</table>\n",
              "</div>\n",
              "      <button class=\"colab-df-convert\" onclick=\"convertToInteractive('df-a6382367-fa36-455c-b4ba-094f79c7414f')\"\n",
              "              title=\"Convert this dataframe to an interactive table.\"\n",
              "              style=\"display:none;\">\n",
              "        \n",
              "  <svg xmlns=\"http://www.w3.org/2000/svg\" height=\"24px\"viewBox=\"0 0 24 24\"\n",
              "       width=\"24px\">\n",
              "    <path d=\"M0 0h24v24H0V0z\" fill=\"none\"/>\n",
              "    <path d=\"M18.56 5.44l.94 2.06.94-2.06 2.06-.94-2.06-.94-.94-2.06-.94 2.06-2.06.94zm-11 1L8.5 8.5l.94-2.06 2.06-.94-2.06-.94L8.5 2.5l-.94 2.06-2.06.94zm10 10l.94 2.06.94-2.06 2.06-.94-2.06-.94-.94-2.06-.94 2.06-2.06.94z\"/><path d=\"M17.41 7.96l-1.37-1.37c-.4-.4-.92-.59-1.43-.59-.52 0-1.04.2-1.43.59L10.3 9.45l-7.72 7.72c-.78.78-.78 2.05 0 2.83L4 21.41c.39.39.9.59 1.41.59.51 0 1.02-.2 1.41-.59l7.78-7.78 2.81-2.81c.8-.78.8-2.07 0-2.86zM5.41 20L4 18.59l7.72-7.72 1.47 1.35L5.41 20z\"/>\n",
              "  </svg>\n",
              "      </button>\n",
              "      \n",
              "  <style>\n",
              "    .colab-df-container {\n",
              "      display:flex;\n",
              "      flex-wrap:wrap;\n",
              "      gap: 12px;\n",
              "    }\n",
              "\n",
              "    .colab-df-convert {\n",
              "      background-color: #E8F0FE;\n",
              "      border: none;\n",
              "      border-radius: 50%;\n",
              "      cursor: pointer;\n",
              "      display: none;\n",
              "      fill: #1967D2;\n",
              "      height: 32px;\n",
              "      padding: 0 0 0 0;\n",
              "      width: 32px;\n",
              "    }\n",
              "\n",
              "    .colab-df-convert:hover {\n",
              "      background-color: #E2EBFA;\n",
              "      box-shadow: 0px 1px 2px rgba(60, 64, 67, 0.3), 0px 1px 3px 1px rgba(60, 64, 67, 0.15);\n",
              "      fill: #174EA6;\n",
              "    }\n",
              "\n",
              "    [theme=dark] .colab-df-convert {\n",
              "      background-color: #3B4455;\n",
              "      fill: #D2E3FC;\n",
              "    }\n",
              "\n",
              "    [theme=dark] .colab-df-convert:hover {\n",
              "      background-color: #434B5C;\n",
              "      box-shadow: 0px 1px 3px 1px rgba(0, 0, 0, 0.15);\n",
              "      filter: drop-shadow(0px 1px 2px rgba(0, 0, 0, 0.3));\n",
              "      fill: #FFFFFF;\n",
              "    }\n",
              "  </style>\n",
              "\n",
              "      <script>\n",
              "        const buttonEl =\n",
              "          document.querySelector('#df-a6382367-fa36-455c-b4ba-094f79c7414f button.colab-df-convert');\n",
              "        buttonEl.style.display =\n",
              "          google.colab.kernel.accessAllowed ? 'block' : 'none';\n",
              "\n",
              "        async function convertToInteractive(key) {\n",
              "          const element = document.querySelector('#df-a6382367-fa36-455c-b4ba-094f79c7414f');\n",
              "          const dataTable =\n",
              "            await google.colab.kernel.invokeFunction('convertToInteractive',\n",
              "                                                     [key], {});\n",
              "          if (!dataTable) return;\n",
              "\n",
              "          const docLinkHtml = 'Like what you see? Visit the ' +\n",
              "            '<a target=\"_blank\" href=https://colab.research.google.com/notebooks/data_table.ipynb>data table notebook</a>'\n",
              "            + ' to learn more about interactive tables.';\n",
              "          element.innerHTML = '';\n",
              "          dataTable['output_type'] = 'display_data';\n",
              "          await google.colab.output.renderOutput(dataTable, element);\n",
              "          const docLink = document.createElement('div');\n",
              "          docLink.innerHTML = docLinkHtml;\n",
              "          element.appendChild(docLink);\n",
              "        }\n",
              "      </script>\n",
              "    </div>\n",
              "  </div>\n",
              "  "
            ]
          },
          "metadata": {},
          "execution_count": 8
        }
      ]
    },
    {
      "cell_type": "markdown",
      "source": [
        "**Release_Date Column**"
      ],
      "metadata": {
        "id": "yWboHQYDXY4R"
      }
    },
    {
      "cell_type": "code",
      "source": [
        "#Cast the Release_Date Column type into datetime type \n",
        "df[\"Release_Date\"] = pd.to_datetime(df[\"Release_Date\"])\n",
        "print(df[\"Release_Date\"].dtypes)"
      ],
      "metadata": {
        "colab": {
          "base_uri": "https://localhost:8080/"
        },
        "id": "mig768VQXYMW",
        "outputId": "b8440247-600e-403e-a4a5-cc84bae880d3"
      },
      "execution_count": 10,
      "outputs": [
        {
          "output_type": "stream",
          "name": "stdout",
          "text": [
            "datetime64[ns]\n"
          ]
        }
      ]
    },
    {
      "cell_type": "code",
      "source": [
        "#Extract the year from Release_Date Column\n",
        "df['Release_Date'] = pd.DatetimeIndex(df['Release_Date']).year\n",
        "df.head()"
      ],
      "metadata": {
        "colab": {
          "base_uri": "https://localhost:8080/",
          "height": 206
        },
        "id": "Fu8VVgeoZSEp",
        "outputId": "adee073b-9734-4064-af5a-6c9585e729b2"
      },
      "execution_count": 11,
      "outputs": [
        {
          "output_type": "execute_result",
          "data": {
            "text/plain": [
              "   Release_Date                    Title  Popularity  Vote_Count  \\\n",
              "0          2021  Spider-Man: No Way Home    5083.954        8940   \n",
              "1          2022               The Batman    3827.658        1151   \n",
              "2          2022                  No Exit    2618.087         122   \n",
              "3          2021                  Encanto    2402.201        5076   \n",
              "4          2021           The King's Man    1895.511        1793   \n",
              "\n",
              "   Vote_Average Original_Language                               Genre  \n",
              "0           8.3                en  Action, Adventure, Science Fiction  \n",
              "1           8.1                en            Crime, Mystery, Thriller  \n",
              "2           6.3                en                            Thriller  \n",
              "3           7.7                en  Animation, Comedy, Family, Fantasy  \n",
              "4           7.0                en    Action, Adventure, Thriller, War  "
            ],
            "text/html": [
              "\n",
              "  <div id=\"df-201e9d00-5879-4d92-89b3-923df689b7b9\">\n",
              "    <div class=\"colab-df-container\">\n",
              "      <div>\n",
              "<style scoped>\n",
              "    .dataframe tbody tr th:only-of-type {\n",
              "        vertical-align: middle;\n",
              "    }\n",
              "\n",
              "    .dataframe tbody tr th {\n",
              "        vertical-align: top;\n",
              "    }\n",
              "\n",
              "    .dataframe thead th {\n",
              "        text-align: right;\n",
              "    }\n",
              "</style>\n",
              "<table border=\"1\" class=\"dataframe\">\n",
              "  <thead>\n",
              "    <tr style=\"text-align: right;\">\n",
              "      <th></th>\n",
              "      <th>Release_Date</th>\n",
              "      <th>Title</th>\n",
              "      <th>Popularity</th>\n",
              "      <th>Vote_Count</th>\n",
              "      <th>Vote_Average</th>\n",
              "      <th>Original_Language</th>\n",
              "      <th>Genre</th>\n",
              "    </tr>\n",
              "  </thead>\n",
              "  <tbody>\n",
              "    <tr>\n",
              "      <th>0</th>\n",
              "      <td>2021</td>\n",
              "      <td>Spider-Man: No Way Home</td>\n",
              "      <td>5083.954</td>\n",
              "      <td>8940</td>\n",
              "      <td>8.3</td>\n",
              "      <td>en</td>\n",
              "      <td>Action, Adventure, Science Fiction</td>\n",
              "    </tr>\n",
              "    <tr>\n",
              "      <th>1</th>\n",
              "      <td>2022</td>\n",
              "      <td>The Batman</td>\n",
              "      <td>3827.658</td>\n",
              "      <td>1151</td>\n",
              "      <td>8.1</td>\n",
              "      <td>en</td>\n",
              "      <td>Crime, Mystery, Thriller</td>\n",
              "    </tr>\n",
              "    <tr>\n",
              "      <th>2</th>\n",
              "      <td>2022</td>\n",
              "      <td>No Exit</td>\n",
              "      <td>2618.087</td>\n",
              "      <td>122</td>\n",
              "      <td>6.3</td>\n",
              "      <td>en</td>\n",
              "      <td>Thriller</td>\n",
              "    </tr>\n",
              "    <tr>\n",
              "      <th>3</th>\n",
              "      <td>2021</td>\n",
              "      <td>Encanto</td>\n",
              "      <td>2402.201</td>\n",
              "      <td>5076</td>\n",
              "      <td>7.7</td>\n",
              "      <td>en</td>\n",
              "      <td>Animation, Comedy, Family, Fantasy</td>\n",
              "    </tr>\n",
              "    <tr>\n",
              "      <th>4</th>\n",
              "      <td>2021</td>\n",
              "      <td>The King's Man</td>\n",
              "      <td>1895.511</td>\n",
              "      <td>1793</td>\n",
              "      <td>7.0</td>\n",
              "      <td>en</td>\n",
              "      <td>Action, Adventure, Thriller, War</td>\n",
              "    </tr>\n",
              "  </tbody>\n",
              "</table>\n",
              "</div>\n",
              "      <button class=\"colab-df-convert\" onclick=\"convertToInteractive('df-201e9d00-5879-4d92-89b3-923df689b7b9')\"\n",
              "              title=\"Convert this dataframe to an interactive table.\"\n",
              "              style=\"display:none;\">\n",
              "        \n",
              "  <svg xmlns=\"http://www.w3.org/2000/svg\" height=\"24px\"viewBox=\"0 0 24 24\"\n",
              "       width=\"24px\">\n",
              "    <path d=\"M0 0h24v24H0V0z\" fill=\"none\"/>\n",
              "    <path d=\"M18.56 5.44l.94 2.06.94-2.06 2.06-.94-2.06-.94-.94-2.06-.94 2.06-2.06.94zm-11 1L8.5 8.5l.94-2.06 2.06-.94-2.06-.94L8.5 2.5l-.94 2.06-2.06.94zm10 10l.94 2.06.94-2.06 2.06-.94-2.06-.94-.94-2.06-.94 2.06-2.06.94z\"/><path d=\"M17.41 7.96l-1.37-1.37c-.4-.4-.92-.59-1.43-.59-.52 0-1.04.2-1.43.59L10.3 9.45l-7.72 7.72c-.78.78-.78 2.05 0 2.83L4 21.41c.39.39.9.59 1.41.59.51 0 1.02-.2 1.41-.59l7.78-7.78 2.81-2.81c.8-.78.8-2.07 0-2.86zM5.41 20L4 18.59l7.72-7.72 1.47 1.35L5.41 20z\"/>\n",
              "  </svg>\n",
              "      </button>\n",
              "      \n",
              "  <style>\n",
              "    .colab-df-container {\n",
              "      display:flex;\n",
              "      flex-wrap:wrap;\n",
              "      gap: 12px;\n",
              "    }\n",
              "\n",
              "    .colab-df-convert {\n",
              "      background-color: #E8F0FE;\n",
              "      border: none;\n",
              "      border-radius: 50%;\n",
              "      cursor: pointer;\n",
              "      display: none;\n",
              "      fill: #1967D2;\n",
              "      height: 32px;\n",
              "      padding: 0 0 0 0;\n",
              "      width: 32px;\n",
              "    }\n",
              "\n",
              "    .colab-df-convert:hover {\n",
              "      background-color: #E2EBFA;\n",
              "      box-shadow: 0px 1px 2px rgba(60, 64, 67, 0.3), 0px 1px 3px 1px rgba(60, 64, 67, 0.15);\n",
              "      fill: #174EA6;\n",
              "    }\n",
              "\n",
              "    [theme=dark] .colab-df-convert {\n",
              "      background-color: #3B4455;\n",
              "      fill: #D2E3FC;\n",
              "    }\n",
              "\n",
              "    [theme=dark] .colab-df-convert:hover {\n",
              "      background-color: #434B5C;\n",
              "      box-shadow: 0px 1px 3px 1px rgba(0, 0, 0, 0.15);\n",
              "      filter: drop-shadow(0px 1px 2px rgba(0, 0, 0, 0.3));\n",
              "      fill: #FFFFFF;\n",
              "    }\n",
              "  </style>\n",
              "\n",
              "      <script>\n",
              "        const buttonEl =\n",
              "          document.querySelector('#df-201e9d00-5879-4d92-89b3-923df689b7b9 button.colab-df-convert');\n",
              "        buttonEl.style.display =\n",
              "          google.colab.kernel.accessAllowed ? 'block' : 'none';\n",
              "\n",
              "        async function convertToInteractive(key) {\n",
              "          const element = document.querySelector('#df-201e9d00-5879-4d92-89b3-923df689b7b9');\n",
              "          const dataTable =\n",
              "            await google.colab.kernel.invokeFunction('convertToInteractive',\n",
              "                                                     [key], {});\n",
              "          if (!dataTable) return;\n",
              "\n",
              "          const docLinkHtml = 'Like what you see? Visit the ' +\n",
              "            '<a target=\"_blank\" href=https://colab.research.google.com/notebooks/data_table.ipynb>data table notebook</a>'\n",
              "            + ' to learn more about interactive tables.';\n",
              "          element.innerHTML = '';\n",
              "          dataTable['output_type'] = 'display_data';\n",
              "          await google.colab.output.renderOutput(dataTable, element);\n",
              "          const docLink = document.createElement('div');\n",
              "          docLink.innerHTML = docLinkHtml;\n",
              "          element.appendChild(docLink);\n",
              "        }\n",
              "      </script>\n",
              "    </div>\n",
              "  </div>\n",
              "  "
            ]
          },
          "metadata": {},
          "execution_count": 11
        }
      ]
    },
    {
      "cell_type": "code",
      "source": [
        "df['Release_Date'].value_counts()"
      ],
      "metadata": {
        "colab": {
          "base_uri": "https://localhost:8080/"
        },
        "id": "wNAtdd6UbYeh",
        "outputId": "ec4a2b2e-c757-4e86-e22b-155adce32cff"
      },
      "execution_count": 12,
      "outputs": [
        {
          "output_type": "execute_result",
          "data": {
            "text/plain": [
              "2021    714\n",
              "2018    530\n",
              "2017    510\n",
              "2019    500\n",
              "2016    470\n",
              "       ... \n",
              "1902      1\n",
              "1920      1\n",
              "2024      1\n",
              "1929      1\n",
              "1930      1\n",
              "Name: Release_Date, Length: 102, dtype: int64"
            ]
          },
          "metadata": {},
          "execution_count": 12
        }
      ]
    },
    {
      "cell_type": "code",
      "source": [
        "sns.boxplot(data= df, x = \"Release_Date\" )"
      ],
      "metadata": {
        "colab": {
          "base_uri": "https://localhost:8080/",
          "height": 297
        },
        "id": "mzyGwpmXizf-",
        "outputId": "2261cf44-c10b-4cec-86d3-ecc4b36fafd9"
      },
      "execution_count": 13,
      "outputs": [
        {
          "output_type": "execute_result",
          "data": {
            "text/plain": [
              "<matplotlib.axes._subplots.AxesSubplot at 0x7fd2b4f4dd10>"
            ]
          },
          "metadata": {},
          "execution_count": 13
        },
        {
          "output_type": "display_data",
          "data": {
            "text/plain": [
              "<Figure size 432x288 with 1 Axes>"
            ],
            "image/png": "[encoded data removed]"
          },
          "metadata": {
            "needs_background": "light"
          }
        }
      ]
    },
    {
      "cell_type": "markdown",
      "source": [
        "**Vote_Average Column**"
      ],
      "metadata": {
        "id": "1LnKr_IGJEsW"
      }
    },
    {
      "cell_type": "code",
      "source": [
        "df[\"Vote_Average\"].unique()"
      ],
      "metadata": {
        "colab": {
          "base_uri": "https://localhost:8080/"
        },
        "id": "gBiJohumJJtX",
        "outputId": "1baa9c72-1b00-4c33-eb07-f52cdef762e8"
      },
      "execution_count": 29,
      "outputs": [
        {
          "output_type": "execute_result",
          "data": {
            "text/plain": [
              "array([ 8.3,  8.1,  6.3,  7.7,  7. ,  6.6,  6.8,  5.3,  7.2,  5.9,  7.3,\n",
              "        7.1,  5.1,  4.6,  6. ,  8.2,  5.4,  6.1,  8.4,  6.9,  5.8,  7.4,\n",
              "        7.8,  8. ,  6.2,  6.7,  7.6,  8.6,  4.8,  5.5,  7.9,  6.4,  7.5,\n",
              "        5.7,  2.2,  6.5,  0. ,  5.6,  5.2,  5. ,  8.5,  3.5,  4. ,  3.3,\n",
              "        4.7,  4.2,  4.3,  2. ,  4.1,  4.9,  8.7,  4.5,  9.1,  4.4,  3.6,\n",
              "        2.8,  3.9,  3.8,  9. ,  3. ,  3.1,  3.7,  3.4,  8.9,  2.9,  8.8,\n",
              "        3.2,  1.5,  9.2,  2.5,  1.8,  2.4,  2.6, 10. ])"
            ]
          },
          "metadata": {},
          "execution_count": 29
        }
      ]
    },
    {
      "cell_type": "markdown",
      "source": [
        "**Genre\tColumn**"
      ],
      "metadata": {
        "id": "wVBhjwjJL_xE"
      }
    },
    {
      "cell_type": "code",
      "source": [
        "df[\"Genre\"].unique()"
      ],
      "metadata": {
        "colab": {
          "base_uri": "https://localhost:8080/"
        },
        "id": "tJxRaUYwMP1y",
        "outputId": "968971ce-fdbf-48d4-cb9b-a0e7f4415078"
      },
      "execution_count": 3,
      "outputs": [
        {
          "output_type": "execute_result",
          "data": {
            "text/plain": [
              "array(['Action, Adventure, Science Fiction', 'Crime, Mystery, Thriller',\n",
              "       'Thriller', ..., 'Comedy, TV Movie, Romance',\n",
              "       'Science Fiction, Fantasy, Family, Music',\n",
              "       'War, Drama, Science Fiction'], dtype=object)"
            ]
          },
          "metadata": {},
          "execution_count": 3
        }
      ]
    },
    {
      "cell_type": "code",
      "source": [
        "#Split the genre in each row into lists\n",
        "df['Genre'] = df['Genre'].str.split(', ')\n",
        "df['Genre']"
      ],
      "metadata": {
        "colab": {
          "base_uri": "https://localhost:8080/"
        },
        "id": "Pg0jkd-mOGrj",
        "outputId": "70eeac5b-0349-4ebe-ad72-7371ac243e27"
      },
      "execution_count": 4,
      "outputs": [
        {
          "output_type": "execute_result",
          "data": {
            "text/plain": [
              "0       [Action, Adventure, Science Fiction]\n",
              "1                 [Crime, Mystery, Thriller]\n",
              "2                                 [Thriller]\n",
              "3       [Animation, Comedy, Family, Fantasy]\n",
              "4         [Action, Adventure, Thriller, War]\n",
              "                        ...                 \n",
              "9822                          [Drama, Crime]\n",
              "9823                                [Horror]\n",
              "9824             [Mystery, Thriller, Horror]\n",
              "9825                 [Music, Drama, History]\n",
              "9826           [War, Drama, Science Fiction]\n",
              "Name: Genre, Length: 9827, dtype: object"
            ]
          },
          "metadata": {},
          "execution_count": 4
        }
      ]
    },
    {
      "cell_type": "code",
      "source": [
        "#Explode the lists\n",
        "df = df.explode('Genre').reset_index(drop=True)\n",
        "df.head()\n"
      ],
      "metadata": {
        "colab": {
          "base_uri": "https://localhost:8080/",
          "height": 337
        },
        "id": "O-rr1IpjQAT-",
        "outputId": "61c6e2ef-4e8a-482c-dd33-d3c674ea5c05"
      },
      "execution_count": 5,
      "outputs": [
        {
          "output_type": "execute_result",
          "data": {
            "text/plain": [
              "  Release_Date                    Title  \\\n",
              "0   2021-12-15  Spider-Man: No Way Home   \n",
              "1   2021-12-15  Spider-Man: No Way Home   \n",
              "2   2021-12-15  Spider-Man: No Way Home   \n",
              "3   2022-03-01               The Batman   \n",
              "4   2022-03-01               The Batman   \n",
              "\n",
              "                                            Overview  Popularity  Vote_Count  \\\n",
              "0  Peter Parker is unmasked and no longer able to...    5083.954        8940   \n",
              "1  Peter Parker is unmasked and no longer able to...    5083.954        8940   \n",
              "2  Peter Parker is unmasked and no longer able to...    5083.954        8940   \n",
              "3  In his second year of fighting crime, Batman u...    3827.658        1151   \n",
              "4  In his second year of fighting crime, Batman u...    3827.658        1151   \n",
              "\n",
              "   Vote_Average Original_Language            Genre  \\\n",
              "0           8.3                en           Action   \n",
              "1           8.3                en        Adventure   \n",
              "2           8.3                en  Science Fiction   \n",
              "3           8.1                en            Crime   \n",
              "4           8.1                en          Mystery   \n",
              "\n",
              "                                          Poster_Url  \n",
              "0  https://image.tmdb.org/t/p/original/1g0dhYtq4i...  \n",
              "1  https://image.tmdb.org/t/p/original/1g0dhYtq4i...  \n",
              "2  https://image.tmdb.org/t/p/original/1g0dhYtq4i...  \n",
              "3  https://image.tmdb.org/t/p/original/74xTEgt7R3...  \n",
              "4  https://image.tmdb.org/t/p/original/74xTEgt7R3...  "
            ],
            "text/html": [
              "\n",
              "  <div id=\"df-051bf2d2-c218-4eac-bf93-3f2d966ca5a2\">\n",
              "    <div class=\"colab-df-container\">\n",
              "      <div>\n",
              "<style scoped>\n",
              "    .dataframe tbody tr th:only-of-type {\n",
              "        vertical-align: middle;\n",
              "    }\n",
              "\n",
              "    .dataframe tbody tr th {\n",
              "        vertical-align: top;\n",
              "    }\n",
              "\n",
              "    .dataframe thead th {\n",
              "        text-align: right;\n",
              "    }\n",
              "</style>\n",
              "<table border=\"1\" class=\"dataframe\">\n",
              "  <thead>\n",
              "    <tr style=\"text-align: right;\">\n",
              "      <th></th>\n",
              "      <th>Release_Date</th>\n",
              "      <th>Title</th>\n",
              "      <th>Overview</th>\n",
              "      <th>Popularity</th>\n",
              "      <th>Vote_Count</th>\n",
              "      <th>Vote_Average</th>\n",
              "      <th>Original_Language</th>\n",
              "      <th>Genre</th>\n",
              "      <th>Poster_Url</th>\n",
              "    </tr>\n",
              "  </thead>\n",
              "  <tbody>\n",
              "    <tr>\n",
              "      <th>0</th>\n",
              "      <td>2021-12-15</td>\n",
              "      <td>Spider-Man: No Way Home</td>\n",
              "      <td>Peter Parker is unmasked and no longer able to...</td>\n",
              "      <td>5083.954</td>\n",
              "      <td>8940</td>\n",
              "      <td>8.3</td>\n",
              "      <td>en</td>\n",
              "      <td>Action</td>\n",
              "      <td>https://image.tmdb.org/t/p/original/1g0dhYtq4i...</td>\n",
              "    </tr>\n",
              "    <tr>\n",
              "      <th>1</th>\n",
              "      <td>2021-12-15</td>\n",
              "      <td>Spider-Man: No Way Home</td>\n",
              "      <td>Peter Parker is unmasked and no longer able to...</td>\n",
              "      <td>5083.954</td>\n",
              "      <td>8940</td>\n",
              "      <td>8.3</td>\n",
              "      <td>en</td>\n",
              "      <td>Adventure</td>\n",
              "      <td>https://image.tmdb.org/t/p/original/1g0dhYtq4i...</td>\n",
              "    </tr>\n",
              "    <tr>\n",
              "      <th>2</th>\n",
              "      <td>2021-12-15</td>\n",
              "      <td>Spider-Man: No Way Home</td>\n",
              "      <td>Peter Parker is unmasked and no longer able to...</td>\n",
              "      <td>5083.954</td>\n",
              "      <td>8940</td>\n",
              "      <td>8.3</td>\n",
              "      <td>en</td>\n",
              "      <td>Science Fiction</td>\n",
              "      <td>https://image.tmdb.org/t/p/original/1g0dhYtq4i...</td>\n",
              "    </tr>\n",
              "    <tr>\n",
              "      <th>3</th>\n",
              "      <td>2022-03-01</td>\n",
              "      <td>The Batman</td>\n",
              "      <td>In his second year of fighting crime, Batman u...</td>\n",
              "      <td>3827.658</td>\n",
              "      <td>1151</td>\n",
              "      <td>8.1</td>\n",
              "      <td>en</td>\n",
              "      <td>Crime</td>\n",
              "      <td>https://image.tmdb.org/t/p/original/74xTEgt7R3...</td>\n",
              "    </tr>\n",
              "    <tr>\n",
              "      <th>4</th>\n",
              "      <td>2022-03-01</td>\n",
              "      <td>The Batman</td>\n",
              "      <td>In his second year of fighting crime, Batman u...</td>\n",
              "      <td>3827.658</td>\n",
              "      <td>1151</td>\n",
              "      <td>8.1</td>\n",
              "      <td>en</td>\n",
              "      <td>Mystery</td>\n",
              "      <td>https://image.tmdb.org/t/p/original/74xTEgt7R3...</td>\n",
              "    </tr>\n",
              "  </tbody>\n",
              "</table>\n",
              "</div>\n",
              "      <button class=\"colab-df-convert\" onclick=\"convertToInteractive('df-051bf2d2-c218-4eac-bf93-3f2d966ca5a2')\"\n",
              "              title=\"Convert this dataframe to an interactive table.\"\n",
              "              style=\"display:none;\">\n",
              "        \n",
              "  <svg xmlns=\"http://www.w3.org/2000/svg\" height=\"24px\"viewBox=\"0 0 24 24\"\n",
              "       width=\"24px\">\n",
              "    <path d=\"M0 0h24v24H0V0z\" fill=\"none\"/>\n",
              "    <path d=\"M18.56 5.44l.94 2.06.94-2.06 2.06-.94-2.06-.94-.94-2.06-.94 2.06-2.06.94zm-11 1L8.5 8.5l.94-2.06 2.06-.94-2.06-.94L8.5 2.5l-.94 2.06-2.06.94zm10 10l.94 2.06.94-2.06 2.06-.94-2.06-.94-.94-2.06-.94 2.06-2.06.94z\"/><path d=\"M17.41 7.96l-1.37-1.37c-.4-.4-.92-.59-1.43-.59-.52 0-1.04.2-1.43.59L10.3 9.45l-7.72 7.72c-.78.78-.78 2.05 0 2.83L4 21.41c.39.39.9.59 1.41.59.51 0 1.02-.2 1.41-.59l7.78-7.78 2.81-2.81c.8-.78.8-2.07 0-2.86zM5.41 20L4 18.59l7.72-7.72 1.47 1.35L5.41 20z\"/>\n",
              "  </svg>\n",
              "      </button>\n",
              "      \n",
              "  <style>\n",
              "    .colab-df-container {\n",
              "      display:flex;\n",
              "      flex-wrap:wrap;\n",
              "      gap: 12px;\n",
              "    }\n",
              "\n",
              "    .colab-df-convert {\n",
              "      background-color: #E8F0FE;\n",
              "      border: none;\n",
              "      border-radius: 50%;\n",
              "      cursor: pointer;\n",
              "      display: none;\n",
              "      fill: #1967D2;\n",
              "      height: 32px;\n",
              "      padding: 0 0 0 0;\n",
              "      width: 32px;\n",
              "    }\n",
              "\n",
              "    .colab-df-convert:hover {\n",
              "      background-color: #E2EBFA;\n",
              "      box-shadow: 0px 1px 2px rgba(60, 64, 67, 0.3), 0px 1px 3px 1px rgba(60, 64, 67, 0.15);\n",
              "      fill: #174EA6;\n",
              "    }\n",
              "\n",
              "    [theme=dark] .colab-df-convert {\n",
              "      background-color: #3B4455;\n",
              "      fill: #D2E3FC;\n",
              "    }\n",
              "\n",
              "    [theme=dark] .colab-df-convert:hover {\n",
              "      background-color: #434B5C;\n",
              "      box-shadow: 0px 1px 3px 1px rgba(0, 0, 0, 0.15);\n",
              "      filter: drop-shadow(0px 1px 2px rgba(0, 0, 0, 0.3));\n",
              "      fill: #FFFFFF;\n",
              "    }\n",
              "  </style>\n",
              "\n",
              "      <script>\n",
              "        const buttonEl =\n",
              "          document.querySelector('#df-051bf2d2-c218-4eac-bf93-3f2d966ca5a2 button.colab-df-convert');\n",
              "        buttonEl.style.display =\n",
              "          google.colab.kernel.accessAllowed ? 'block' : 'none';\n",
              "\n",
              "        async function convertToInteractive(key) {\n",
              "          const element = document.querySelector('#df-051bf2d2-c218-4eac-bf93-3f2d966ca5a2');\n",
              "          const dataTable =\n",
              "            await google.colab.kernel.invokeFunction('convertToInteractive',\n",
              "                                                     [key], {});\n",
              "          if (!dataTable) return;\n",
              "\n",
              "          const docLinkHtml = 'Like what you see? Visit the ' +\n",
              "            '<a target=\"_blank\" href=https://colab.research.google.com/notebooks/data_table.ipynb>data table notebook</a>'\n",
              "            + ' to learn more about interactive tables.';\n",
              "          element.innerHTML = '';\n",
              "          dataTable['output_type'] = 'display_data';\n",
              "          await google.colab.output.renderOutput(dataTable, element);\n",
              "          const docLink = document.createElement('div');\n",
              "          docLink.innerHTML = docLinkHtml;\n",
              "          element.appendChild(docLink);\n",
              "        }\n",
              "      </script>\n",
              "    </div>\n",
              "  </div>\n",
              "  "
            ]
          },
          "metadata": {},
          "execution_count": 5
        }
      ]
    },
    {
      "cell_type": "markdown",
      "source": [
        "**Original_Language Column**"
      ],
      "metadata": {
        "id": "l7SdI4H4AHTt"
      }
    },
    {
      "cell_type": "code",
      "source": [
        "#\n",
        "df[\"Original_Language\"].value_counts()"
      ],
      "metadata": {
        "colab": {
          "base_uri": "https://localhost:8080/"
        },
        "id": "tYAAwuyI9jRE",
        "outputId": "26dca926-bc3b-4587-ef55-8474fd652d7a"
      },
      "execution_count": 14,
      "outputs": [
        {
          "output_type": "execute_result",
          "data": {
            "text/plain": [
              "en    7570\n",
              "ja     645\n",
              "es     339\n",
              "fr     292\n",
              "ko     170\n",
              "zh     129\n",
              "it     123\n",
              "cn     109\n",
              "ru      83\n",
              "de      82\n",
              "pt      37\n",
              "da      28\n",
              "no      26\n",
              "hi      26\n",
              "sv      23\n",
              "nl      21\n",
              "pl      17\n",
              "th      17\n",
              "id      15\n",
              "tr      15\n",
              "tl       8\n",
              "te       6\n",
              "el       5\n",
              "fi       5\n",
              "sr       5\n",
              "cs       4\n",
              "fa       3\n",
              "hu       3\n",
              "is       2\n",
              "ro       2\n",
              "uk       2\n",
              "ta       2\n",
              "ar       2\n",
              "he       2\n",
              "ca       1\n",
              "la       1\n",
              "nb       1\n",
              "bn       1\n",
              "ms       1\n",
              "lv       1\n",
              "eu       1\n",
              "ml       1\n",
              "et       1\n",
              "Name: Original_Language, dtype: int64"
            ]
          },
          "metadata": {},
          "execution_count": 14
        }
      ]
    },
    {
      "cell_type": "code",
      "source": [
        "#set \n",
        "df.Original_Language[~df['Original_Language'].isin([\"en\",\"ja\",\"es\",\"fr\",\"ko\",\"zh\",\"it\", \"cn\"])]=\"Other\""
      ],
      "metadata": {
        "id": "fLLjPmBQ-KKy"
      },
      "execution_count": null,
      "outputs": []
    },
    {
      "cell_type": "code",
      "source": [
        "df[\"Original_Language\"].unique()"
      ],
      "metadata": {
        "colab": {
          "base_uri": "https://localhost:8080/"
        },
        "id": "uNO0edP9_Bjp",
        "outputId": "814f91c5-68d4-4210-9132-459d03fc350f"
      },
      "execution_count": 16,
      "outputs": [
        {
          "output_type": "execute_result",
          "data": {
            "text/plain": [
              "array(['en', 'ja', 'fr', 'Other', 'es', 'ko', 'cn', 'zh', 'it'],\n",
              "      dtype=object)"
            ]
          },
          "metadata": {},
          "execution_count": 16
        }
      ]
    },
    {
      "cell_type": "markdown",
      "source": [
        "#Data Visualization "
      ],
      "metadata": {
        "id": "6QUBrvfRkNXG"
      }
    },
    {
      "cell_type": "code",
      "source": [
        "sns.set_style('whitegrid') \n",
        "s =sns.histplot(data= df, x= \"Release_Date\" , binwidth=3)\n"
      ],
      "metadata": {
        "colab": {
          "base_uri": "https://localhost:8080/",
          "height": 282
        },
        "id": "WQkDejv7dW7H",
        "outputId": "32c2e733-38a2-49ba-f843-f5e55d924894"
      },
      "execution_count": 21,
      "outputs": [
        {
          "output_type": "display_data",
          "data": {
            "text/plain": [
              "<Figure size 432x288 with 1 Axes>"
            ],
            "image/png": "[encoded data removed]"
          },
          "metadata": {}
        }
      ]
    },
    {
      "cell_type": "code",
      "source": [
        "order = [\"en\",\"ja\",\"es\",\"fr\",\"ko\",\"zh\",\"it\", \"cn\", \"Other\"]\n",
        "sns.catplot(data= df,\n",
        "              x= \"Original_Language\" ,\n",
        "              order = order,\n",
        "            kind = \"count\",\n",
        "            palette = \"RdBu\")\n",
        "plt.xticks(rotation=90)\n"
      ],
      "metadata": {
        "colab": {
          "base_uri": "https://localhost:8080/",
          "height": 388
        },
        "id": "9EU0-ZXY9uqo",
        "outputId": "306f9695-5177-4dc2-e117-c60016542469"
      },
      "execution_count": 28,
      "outputs": [
        {
          "output_type": "display_data",
          "data": {
            "text/plain": [
              "<Figure size 360x360 with 1 Axes>"
            ],
            "image/png": "[encoded data removed]"
          },
          "metadata": {
            "needs_background": "light"
          }
        }
      ]
    }
  ]
}